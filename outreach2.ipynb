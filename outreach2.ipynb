{
 "cells": [
  {
   "cell_type": "code",
   "execution_count": 1,
   "metadata": {},
   "outputs": [
    {
     "name": "stdout",
     "output_type": "stream",
     "text": [
      "Galaxy analysis code imported\n",
      "SciServer libraries imported\n",
      "Supporting libraries imported\n",
      "Settings applied\n"
     ]
    }
   ],
   "source": [
    "import pawlikMorphLSST as pmlsst                    # Library for analysing galaxies\n",
    "print(\"Galaxy analysis code imported\")\n",
    "\n",
    "# Import Python libraries to work with SciServer\n",
    "import SciServer.CasJobs as CasJobs                 # query with CasJobs\n",
    "import SciServer.SkyServer as SkyServer\n",
    "print('SciServer libraries imported')\n",
    "\n",
    "# Import other libraries for use in this notebook.\n",
    "import numpy as np                                  # standard Python lib for math ops\n",
    "import pandas as pd                                 # data manipulation package\n",
    "import matplotlib.pyplot as plt                     # another graphing package\n",
    "from pathlib import Path                            # manage local files in your Compute containers\n",
    "from astropy.visualization import ZScaleInterval    # for plotting clear images\n",
    "from tqdm import tqdm_notebook                      # for a nice progress bar\n",
    "from concurrent.futures import ProcessPoolExecutor  # for running the code on more than 1 cpu\n",
    "from IPython.display import clear_output            # allow nice printing\n",
    "import json\n",
    "print('Supporting libraries imported')\n",
    "\n",
    "# Apply some special settings to the imported libraries\n",
    "# ensure columns get written completely in notebook\n",
    "pd.set_option('display.max_colwidth', -1)\n",
    "\n",
    "# for plotting clear images\n",
    "zscale = ZScaleInterval()\n",
    "\n",
    "# do *not* show python warnings \n",
    "import warnings\n",
    "warnings.filterwarnings('ignore')\n",
    "print('Settings applied')"
   ]
  },
  {
   "cell_type": "code",
   "execution_count": 2,
   "metadata": {},
   "outputs": [
    {
     "name": "stdout",
     "output_type": "stream",
     "text": [
      "SQL query finished.\n",
      "SQL query returned 4603 galaxies\n"
     ]
    }
   ],
   "source": [
    "# Find objects in the Sloan Digital Sky Survey's.\n",
    "#\n",
    "# Query the Sloan Digital Sky Serveys' NSA catalog of galactical objects.\n",
    "# For the database schema and documentation see http://skyserver.sdss.org/dr16/en/help/browser/browser.aspx?cmd=description+nsatlas+U#&&history=description+nsatlas+U\n",
    "#\n",
    "# This query finds all galaxies in the value added catalogue PawlikMorph and matches this information to the\n",
    "# MaNGA catalogue in order to get galaxies positions.\n",
    "# Finally we discard any galaxies that have incomplete measurments\n",
    "#\n",
    "# First, store the query in an object called \"query\"\n",
    "query=\"\"\"\n",
    "select distinct m.objra, m.objdec, p.run, p.rerun, p.camcol, p.field, p.S, p.R20, p.R80\n",
    "from dbo.PawlikMorph p\n",
    "  join dbo.mangaDAPall m\n",
    "  on m.mangaID = p.mangaid\n",
    "\"\"\"\n",
    "\n",
    "#Then, query the database. The answer is a table that is being returned to a dataframe that we've named all_gals.\n",
    "all_gals = CasJobs.executeQuery(query, \"dr16\")\n",
    "\n",
    "print(\"SQL query finished.\")\n",
    "print(f\"SQL query returned {len(all_gals.index)} galaxies\")"
   ]
  },
  {
   "cell_type": "code",
   "execution_count": 4,
   "metadata": {},
   "outputs": [
    {
     "data": {
      "text/html": [
       "<div>\n",
       "<style scoped>\n",
       "    .dataframe tbody tr th:only-of-type {\n",
       "        vertical-align: middle;\n",
       "    }\n",
       "\n",
       "    .dataframe tbody tr th {\n",
       "        vertical-align: top;\n",
       "    }\n",
       "\n",
       "    .dataframe thead th {\n",
       "        text-align: right;\n",
       "    }\n",
       "</style>\n",
       "<table border=\"1\" class=\"dataframe\">\n",
       "  <thead>\n",
       "    <tr style=\"text-align: right;\">\n",
       "      <th></th>\n",
       "      <th>objra</th>\n",
       "      <th>objdec</th>\n",
       "      <th>run</th>\n",
       "      <th>rerun</th>\n",
       "      <th>camcol</th>\n",
       "      <th>field</th>\n",
       "      <th>S</th>\n",
       "      <th>R20</th>\n",
       "      <th>R80</th>\n",
       "      <th>fname</th>\n",
       "    </tr>\n",
       "  </thead>\n",
       "  <tbody>\n",
       "    <tr>\n",
       "      <th>0</th>\n",
       "      <td>27.475456</td>\n",
       "      <td>13.126633</td>\n",
       "      <td>1035</td>\n",
       "      <td>40</td>\n",
       "      <td>2</td>\n",
       "      <td>144</td>\n",
       "      <td>0.049302</td>\n",
       "      <td>4.143</td>\n",
       "      <td>17.220</td>\n",
       "      <td>/home/idies/workspace/sdss_das/das2/imaging/1035/40/corr/2/fpC-001035-r2-0144.fit.gz</td>\n",
       "    </tr>\n",
       "    <tr>\n",
       "      <th>1</th>\n",
       "      <td>27.529863</td>\n",
       "      <td>13.110374</td>\n",
       "      <td>1035</td>\n",
       "      <td>40</td>\n",
       "      <td>2</td>\n",
       "      <td>144</td>\n",
       "      <td>0.096871</td>\n",
       "      <td>3.334</td>\n",
       "      <td>15.406</td>\n",
       "      <td>/home/idies/workspace/sdss_das/das2/imaging/1035/40/corr/2/fpC-001035-r2-0144.fit.gz</td>\n",
       "    </tr>\n",
       "    <tr>\n",
       "      <th>2</th>\n",
       "      <td>27.565306</td>\n",
       "      <td>13.140773</td>\n",
       "      <td>1035</td>\n",
       "      <td>40</td>\n",
       "      <td>2</td>\n",
       "      <td>144</td>\n",
       "      <td>0.115196</td>\n",
       "      <td>2.971</td>\n",
       "      <td>11.520</td>\n",
       "      <td>/home/idies/workspace/sdss_das/das2/imaging/1035/40/corr/2/fpC-001035-r2-0144.fit.gz</td>\n",
       "    </tr>\n",
       "    <tr>\n",
       "      <th>3</th>\n",
       "      <td>27.653662</td>\n",
       "      <td>13.110200</td>\n",
       "      <td>1035</td>\n",
       "      <td>40</td>\n",
       "      <td>2</td>\n",
       "      <td>145</td>\n",
       "      <td>0.155478</td>\n",
       "      <td>1.701</td>\n",
       "      <td>52.690</td>\n",
       "      <td>/home/idies/workspace/sdss_das/das2/imaging/1035/40/corr/2/fpC-001035-r2-0145.fit.gz</td>\n",
       "    </tr>\n",
       "    <tr>\n",
       "      <th>4</th>\n",
       "      <td>27.842783</td>\n",
       "      <td>13.060335</td>\n",
       "      <td>1035</td>\n",
       "      <td>40</td>\n",
       "      <td>2</td>\n",
       "      <td>146</td>\n",
       "      <td>0.172169</td>\n",
       "      <td>1.551</td>\n",
       "      <td>41.625</td>\n",
       "      <td>/home/idies/workspace/sdss_das/das2/imaging/1035/40/corr/2/fpC-001035-r2-0146.fit.gz</td>\n",
       "    </tr>\n",
       "    <tr>\n",
       "      <th>5</th>\n",
       "      <td>27.886442</td>\n",
       "      <td>12.699600</td>\n",
       "      <td>1035</td>\n",
       "      <td>40</td>\n",
       "      <td>1</td>\n",
       "      <td>147</td>\n",
       "      <td>0.281075</td>\n",
       "      <td>6.779</td>\n",
       "      <td>31.605</td>\n",
       "      <td>/home/idies/workspace/sdss_das/das2/imaging/1035/40/corr/1/fpC-001035-r1-0147.fit.gz</td>\n",
       "    </tr>\n",
       "    <tr>\n",
       "      <th>6</th>\n",
       "      <td>28.079226</td>\n",
       "      <td>13.634056</td>\n",
       "      <td>1035</td>\n",
       "      <td>40</td>\n",
       "      <td>3</td>\n",
       "      <td>147</td>\n",
       "      <td>0.070220</td>\n",
       "      <td>6.191</td>\n",
       "      <td>33.866</td>\n",
       "      <td>/home/idies/workspace/sdss_das/das2/imaging/1035/40/corr/3/fpC-001035-r3-0147.fit.gz</td>\n",
       "    </tr>\n",
       "    <tr>\n",
       "      <th>7</th>\n",
       "      <td>28.185047</td>\n",
       "      <td>13.192551</td>\n",
       "      <td>1035</td>\n",
       "      <td>40</td>\n",
       "      <td>2</td>\n",
       "      <td>148</td>\n",
       "      <td>0.089205</td>\n",
       "      <td>5.205</td>\n",
       "      <td>21.277</td>\n",
       "      <td>/home/idies/workspace/sdss_das/das2/imaging/1035/40/corr/2/fpC-001035-r2-0148.fit.gz</td>\n",
       "    </tr>\n",
       "    <tr>\n",
       "      <th>8</th>\n",
       "      <td>28.375704</td>\n",
       "      <td>14.570949</td>\n",
       "      <td>1043</td>\n",
       "      <td>40</td>\n",
       "      <td>5</td>\n",
       "      <td>185</td>\n",
       "      <td>-99.000000</td>\n",
       "      <td>6.187</td>\n",
       "      <td>29.026</td>\n",
       "      <td>/home/idies/workspace/sdss_das/das2/imaging/1043/40/corr/5/fpC-001043-r5-0185.fit.gz</td>\n",
       "    </tr>\n",
       "    <tr>\n",
       "      <th>9</th>\n",
       "      <td>28.443092</td>\n",
       "      <td>12.880449</td>\n",
       "      <td>1043</td>\n",
       "      <td>40</td>\n",
       "      <td>1</td>\n",
       "      <td>186</td>\n",
       "      <td>0.131965</td>\n",
       "      <td>5.326</td>\n",
       "      <td>35.598</td>\n",
       "      <td>/home/idies/workspace/sdss_das/das2/imaging/1043/40/corr/1/fpC-001043-r1-0186.fit.gz</td>\n",
       "    </tr>\n",
       "  </tbody>\n",
       "</table>\n",
       "</div>"
      ],
      "text/plain": [
       "       objra     objdec   run  rerun  camcol  field          S    R20     R80  \\\n",
       "0  27.475456  13.126633  1035  40     2       144    0.049302   4.143  17.220   \n",
       "1  27.529863  13.110374  1035  40     2       144    0.096871   3.334  15.406   \n",
       "2  27.565306  13.140773  1035  40     2       144    0.115196   2.971  11.520   \n",
       "3  27.653662  13.110200  1035  40     2       145    0.155478   1.701  52.690   \n",
       "4  27.842783  13.060335  1035  40     2       146    0.172169   1.551  41.625   \n",
       "5  27.886442  12.699600  1035  40     1       147    0.281075   6.779  31.605   \n",
       "6  28.079226  13.634056  1035  40     3       147    0.070220   6.191  33.866   \n",
       "7  28.185047  13.192551  1035  40     2       148    0.089205   5.205  21.277   \n",
       "8  28.375704  14.570949  1043  40     5       185   -99.000000  6.187  29.026   \n",
       "9  28.443092  12.880449  1043  40     1       186    0.131965   5.326  35.598   \n",
       "\n",
       "                                                                                  fname  \n",
       "0  /home/idies/workspace/sdss_das/das2/imaging/1035/40/corr/2/fpC-001035-r2-0144.fit.gz  \n",
       "1  /home/idies/workspace/sdss_das/das2/imaging/1035/40/corr/2/fpC-001035-r2-0144.fit.gz  \n",
       "2  /home/idies/workspace/sdss_das/das2/imaging/1035/40/corr/2/fpC-001035-r2-0144.fit.gz  \n",
       "3  /home/idies/workspace/sdss_das/das2/imaging/1035/40/corr/2/fpC-001035-r2-0145.fit.gz  \n",
       "4  /home/idies/workspace/sdss_das/das2/imaging/1035/40/corr/2/fpC-001035-r2-0146.fit.gz  \n",
       "5  /home/idies/workspace/sdss_das/das2/imaging/1035/40/corr/1/fpC-001035-r1-0147.fit.gz  \n",
       "6  /home/idies/workspace/sdss_das/das2/imaging/1035/40/corr/3/fpC-001035-r3-0147.fit.gz  \n",
       "7  /home/idies/workspace/sdss_das/das2/imaging/1035/40/corr/2/fpC-001035-r2-0148.fit.gz  \n",
       "8  /home/idies/workspace/sdss_das/das2/imaging/1043/40/corr/5/fpC-001043-r5-0185.fit.gz  \n",
       "9  /home/idies/workspace/sdss_das/das2/imaging/1043/40/corr/1/fpC-001043-r1-0186.fit.gz  "
      ]
     },
     "execution_count": 4,
     "metadata": {},
     "output_type": "execute_result"
    }
   ],
   "source": [
    "# add a column to the dataframe, which contains the path to the image\n",
    "def makename(df):\n",
    "    root = \"/home/idies/workspace/sdss_das/das2/imaging/\"\n",
    "    df[\"fname\"] = df.apply(lambda row: root + f\"{int(row.run)}/{int(row.rerun)}/corr/{int(row.camcol)}/fpC-{int(row.run):06}-r{int(row.camcol)}-{int(row.field):04}.fit.gz\", axis=1)\n",
    "    return df\n",
    "\n",
    "# add filename column\n",
    "all_gals = makename(all_gals)\n",
    "# View the information of the first 10 galaxies retrieved\n",
    "all_gals[0:10]"
   ]
  },
  {
   "cell_type": "code",
   "execution_count": 5,
   "metadata": {},
   "outputs": [],
   "source": [
    "# This snippet create a list of filenames, and positions that analyseImage requires to run\n",
    "info = []\n",
    "for i in range(0, len(all_gals.index)):\n",
    "    ra, dec = all_gals[\"objra\"].iloc[i], all_gals[\"objdec\"].iloc[i]\n",
    "    name = all_gals[\"fname\"].iloc[i]\n",
    "    info.append([name, ra, dec])"
   ]
  },
  {
   "cell_type": "code",
   "execution_count": 6,
   "metadata": {},
   "outputs": [],
   "source": [
    "def processResult(results):\n",
    "    processedResults = {\"A\": [], \"As\": [], \"As90\": [], \"C\": [], \"S\": [], \"g\": [], \"m20\": [], \"fname\": [], \"radec\": []}\n",
    "    for result in results:\n",
    "        if result[0] != -99:\n",
    "            processedResults[\"A\"].append(result[0])\n",
    "            processedResults[\"As\"].append(result[1])\n",
    "            processedResults[\"As90\"].append(result[2])\n",
    "            processedResults[\"C\"].append(result[3])\n",
    "            processedResults[\"S\"].append(result[4])\n",
    "            processedResults[\"g\"].append(result[5])\n",
    "            processedResults[\"m20\"].append(result[6])\n",
    "            processedResults[\"fname\"].append(result[7])\n",
    "            processedResults[\"radec\"].append((result[8], result[9]))\n",
    "    return processedResults"
   ]
  },
  {
   "cell_type": "code",
   "execution_count": 7,
   "metadata": {
    "scrolled": true
   },
   "outputs": [
    {
     "data": {
      "application/vnd.jupyter.widget-view+json": {
       "model_id": "910801e473d34b33956c6c39aad58850",
       "version_major": 2,
       "version_minor": 0
      },
      "text/plain": [
       "HBox(children=(FloatProgress(value=0.0, max=4603.0), HTML(value='')))"
      ]
     },
     "metadata": {},
     "output_type": "display_data"
    },
    {
     "name": "stdout",
     "output_type": "stream",
     "text": [
      "\n"
     ]
    }
   ],
   "source": [
    "cores = 16\n",
    "results = []\n",
    "with ProcessPoolExecutor(max_workers=cores) as pool:\n",
    "    for result in tqdm_notebook(pool.map(pmlsst.helpers.analyseImage, info), total=len(info)):\n",
    "        results.append(result)\n",
    "finalResults = processResult(results)\n",
    "json.dump(finalResults, open(\"results.json\", \"w\"))"
   ]
  },
  {
   "cell_type": "markdown",
   "metadata": {},
   "source": [
    "If your code crashes, or this work is completed over more than one afternoon, you can reload the results using the below code in order to save time."
   ]
  },
  {
   "cell_type": "code",
   "execution_count": null,
   "metadata": {},
   "outputs": [],
   "source": [
    "finalResults = json.load(open(\"results.json\"))"
   ]
  },
  {
   "cell_type": "code",
   "execution_count": null,
   "metadata": {},
   "outputs": [],
   "source": [
    "from photutils import CircularAperture, CircularAnnulus\n",
    "import scipy.ndimage as ndi\n",
    "\n",
    "row = all_gals.iloc[3021]\n",
    "img = pmlsst.image.readImage(\"sdss\", filename=row[\"fname\"], ra=row[\"objra\"], dec=row[\"objdec\"])\n",
    "img = pmlsst.imageutils.maskstarsSEG(img)\n",
    "skybgr, skybgr_err, *_ = pmlsst.skyBackground.skybgr(img)\n",
    "mask = pmlsst.pixmap.pixelmap(img, skybgr + skybgr_err, 3)\n",
    "\n",
    "# subtract sky\n",
    "img -= skybgr\n",
    "\n",
    "# Rmax = pmlsst.pixmap.calcRmax(img, mask)\n",
    "# aperturepixmap = pmlsst.apertures.aperpixmap(img.shape[0], Rmax, 9, 0.1)\n",
    "\n",
    "# starmask = np.ones_like(img)\n",
    "# apix = pmlsst.asymmetry.minapix(img, mask, aperturepixmap, starmask)\n",
    "\n",
    "# r20, r80 = pmlsst.casgm.calcR20_R80(img, apix, Rmax)\n",
    "# r_in = r80\n",
    "# r_out = Rmax\n",
    "# centroid = apix\n",
    "# # Exclude inner 20% of light. See Concelice 2003\n",
    "# imageApeture = CircularAnnulus(centroid, r_in, r_out)\n",
    "\n",
    "# # smooth image\n",
    "# imageSmooth = ndi.uniform_filter(img, size=int(r20))\n",
    "\n",
    "# # calculate residual, setting any negative pixels to 0.\n",
    "# imageDiff = img - imageSmooth\n",
    "# imageDiff[imageDiff < 0.] = 0.\n",
    "\n",
    "# # calculate S, accounting for the background smoothness.\n",
    "# imageFlux = imageApeture.do_photometry(img, method=\"exact\")[0][0]\n",
    "# diffFlux = imageApeture.do_photometry(imageDiff, method=\"exact\")[0][0]\n",
    "# backgroundSmooth = _getBackgroundSmoothness(img, mask, sky, r20)\n",
    "# S = (diffFlux - imageApeture.area*backgroundSmooth) / imageFlux\n",
    "\n",
    "\n",
    "C, S, gini, m20 = pmlsst.casgm.calculateCSGM(img, mask, skybgr)\n",
    "#print(S)\n",
    "print(row)\n",
    "print(S, r20, r80)"
   ]
  },
  {
   "cell_type": "code",
   "execution_count": 11,
   "metadata": {
    "scrolled": false
   },
   "outputs": [
    {
     "data": {
      "image/png": "[encoded data removed]",
      "text/plain": [
       "<Figure size 1080x1080 with 9 Axes>"
      ]
     },
     "metadata": {
      "needs_background": "light"
     },
     "output_type": "display_data"
    }
   ],
   "source": [
    "df = pd.DataFrame.from_dict(finalResults)\n",
    "hist = df.hist(bins=20, figsize=(15,15))"
   ]
  },
  {
   "cell_type": "code",
   "execution_count": 9,
   "metadata": {},
   "outputs": [
    {
     "data": {
      "image/png": "[encoded data removed]",
      "text/plain": [
       "<Figure size 432x288 with 1 Axes>"
      ]
     },
     "metadata": {
      "needs_background": "light"
     },
     "output_type": "display_data"
    }
   ],
   "source": [
    "all_gals = all_gals[all_gals.S != -99]\n",
    "hist2 = all_gals[\"S\"].hist(bins=20)"
   ]
  },
  {
   "cell_type": "code",
   "execution_count": null,
   "metadata": {},
   "outputs": [],
   "source": [
    "from astropy import wcs\n",
    "mergers = df.query(\"C >= 4.\")\n",
    "print(len(mergers.index))\n",
    "imgs = mergers.iloc[:16]\n",
    "\n",
    "fig = plt.figure(figsize=(15, 15))\n",
    "subPlotNum = 1\n",
    "for i in range(len(imgs.index)):\n",
    "    filename = imgs[\"fname\"].iloc[i]\n",
    "    ra, dec = imgs[\"radec\"].iloc[i]\n",
    "    image = pmlsst.image.readImage(\"sdss\", filename, ra=ra, dec=dec, npix=128)\n",
    "    image = pmlsst.imageutils.maskstarsSEG(image)\n",
    "\n",
    "    plt.subplot(4, 4, subPlotNum)\n",
    "    subPlotNum += 1\n",
    "    vmin, vmax = zscale.get_limits(image)\n",
    "    plt.imshow(image, vmin=vmin, vmax=vmax, origin=\"lower\")"
   ]
  },
  {
   "cell_type": "code",
   "execution_count": null,
   "metadata": {},
   "outputs": [],
   "source": [
    "import SciServer.SkyServer as SkyServer\n",
    "mergers = all_gals.query(\"As >= 0.2\")\n",
    "fig = plt.figure(figsize=(15, 15))\n",
    "subPlotNum = 1\n",
    "pixelsize=.369\n",
    "for i in range(16):\n",
    "    filename = mergers[\"fname\"].iloc[i]\n",
    "    ra, dec = mergers[\"objra\"].iloc[i], mergers[\"objdec\"].iloc[i]\n",
    "    #image = pmlsst.image.readImage(\"sdss\", filename, ra=ra, dec=dec, npix=128)\n",
    "    #image = pmlsst.imageutils.maskstarsSEG(image)\n",
    "#     scale = 2.*mergers[\"rmax\"]/pixelsize/200\n",
    "#     print(scale)\n",
    "    image = SkyServer.getJpegImgCutout(ra=ra, dec=dec, width=200, height=200, scale=.3, dataRelease='DR16')\n",
    "    plt.subplot(4, 4, subPlotNum)\n",
    "    subPlotNum += 1\n",
    "    vmin, vmax = zscale.get_limits(image)\n",
    "    plt.imshow(image, vmin=vmin, vmax=vmax, origin=\"lower\")"
   ]
  }
 ],
 "metadata": {
  "kernelspec": {
   "display_name": "Python 3",
   "language": "python",
   "name": "python3"
  },
  "language_info": {
   "codemirror_mode": {
    "name": "ipython",
    "version": 3
   },
   "file_extension": ".py",
   "mimetype": "text/x-python",
   "name": "python",
   "nbconvert_exporter": "python",
   "pygments_lexer": "ipython3",
   "version": "3.6.6"
  }
 },
 "nbformat": 4,
 "nbformat_minor": 2
}
